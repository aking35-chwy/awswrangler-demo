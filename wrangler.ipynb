{
 "cells": [
  {
   "cell_type": "code",
   "execution_count": 8,
   "metadata": {},
   "outputs": [],
   "source": [
    "import boto3\n",
    "import awswrangler as wr\n",
    "from aws_credentials import aws_credentials\n",
    "from config import database, ATHENA_QUERY_RESULTS_BUCKET, REPLENISHMENT_KMS_KEY, query_string"
   ]
  },
  {
   "cell_type": "code",
   "execution_count": 10,
   "metadata": {},
   "outputs": [],
   "source": [
    "session = boto3.session.Session(aws_access_key_id=aws_credentials[\"access_key_id\"],\n",
    "    aws_secret_access_key=aws_credentials[\"secret_access_key\"],\n",
    "    aws_session_token=aws_credentials[\"session_token\"],\n",
    "    region_name=aws_credentials[\"region\"])"
   ]
  },
  {
   "cell_type": "code",
   "execution_count": 6,
   "metadata": {},
   "outputs": [
    {
     "name": "stdout",
     "output_type": "stream",
     "text": [
      "   vendor_number location_code  avg_leadtime\n",
      "0           1934          BNA1           5.0\n",
      "1           1934          CFC1          10.0\n",
      "2           1934          CLT1          18.0\n",
      "3           1934          DAY1          11.0\n",
      "4           1934          DFW1          14.0\n",
      "5           1934          MCI1          14.0\n",
      "6           1934          MCO1          13.0\n",
      "7           1934          MDT1          12.0\n",
      "8           1934          PHX1          11.0\n",
      "9           1934          RNO1          13.0\n",
      "10          1934          AVP1          14.0\n",
      "11          1934          AVP2          10.0\n"
     ]
    }
   ],
   "source": [
    "data = wr.athena.read_sql_query(ctas_approach=False, \\\n",
    "    sql=query_string, database=database, s3_output=\"s3://\" + ATHENA_QUERY_RESULTS_BUCKET, \\\n",
    "    boto3_session=session, \\\n",
    "    kms_key=REPLENISHMENT_KMS_KEY, encryption=\"SSE_KMS\")\n",
    "\n",
    "print(data)"
   ]
  },
  {
   "cell_type": "code",
   "execution_count": null,
   "metadata": {},
   "outputs": [],
   "source": []
  }
 ],
 "metadata": {
  "kernelspec": {
   "display_name": ".env",
   "language": "python",
   "name": "python3"
  },
  "language_info": {
   "codemirror_mode": {
    "name": "ipython",
    "version": 3
   },
   "file_extension": ".py",
   "mimetype": "text/x-python",
   "name": "python",
   "nbconvert_exporter": "python",
   "pygments_lexer": "ipython3",
   "version": "3.9.6"
  },
  "orig_nbformat": 4,
  "vscode": {
   "interpreter": {
    "hash": "e9f1385bc45ee57a218709f7c31182ada69bf7711357ba4ae227894df86cfd36"
   }
  }
 },
 "nbformat": 4,
 "nbformat_minor": 2
}
